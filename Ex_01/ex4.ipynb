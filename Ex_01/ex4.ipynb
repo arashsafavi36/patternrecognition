{
 "cells": [
  {
   "cell_type": "code",
   "execution_count": 1,
   "id": "third-chorus",
   "metadata": {},
   "outputs": [],
   "source": [
    "import scipy\n",
    "import numpy as np\n",
    "import matplotlib.pyplot as plt"
   ]
  },
  {
   "cell_type": "code",
   "execution_count": 2,
   "id": "comparable-building",
   "metadata": {},
   "outputs": [],
   "source": [
    "mat = np.load(\"Data/faceMatrix.npy\").astype('float')\n",
    "mat = mat.transpose()"
   ]
  },
  {
   "cell_type": "code",
   "execution_count": 3,
   "id": "outside-infection",
   "metadata": {},
   "outputs": [
    {
     "data": {
      "text/plain": [
       "<matplotlib.image.AxesImage at 0x7fac56797810>"
      ]
     },
     "execution_count": 3,
     "metadata": {},
     "output_type": "execute_result"
    },
    {
     "data": {
      "image/png": "[encoded data removed]",
      "text/plain": [
       "<Figure size 432x288 with 1 Axes>"
      ]
     },
     "metadata": {
      "needs_background": "light"
     },
     "output_type": "display_data"
    }
   ],
   "source": [
    "# test everything works fine\n",
    "im = mat[1,0:].reshape(19,19)\n",
    "plt.imshow(im)"
   ]
  },
  {
   "cell_type": "code",
   "execution_count": 4,
   "id": "practical-recommendation",
   "metadata": {},
   "outputs": [],
   "source": [
    "# the objective function\n",
    "def obj_func(set):\n",
    "    sum = 0;\n",
    "    for s1 in set:\n",
    "        for s2 in set:\n",
    "            sum += np.linalg.norm(s1-s2,2)\n",
    "    return sum"
   ]
  },
  {
   "cell_type": "code",
   "execution_count": 5,
   "id": "modular-panama",
   "metadata": {},
   "outputs": [],
   "source": [
    "# first approach: \n",
    "# use k-means and choose k images that are near centroids\n",
    "from scipy.cluster.vq import vq, kmeans, whiten\n",
    "\n",
    "def findPointNearCentroid(centroid, points):\n",
    "    min_dif = np.infty\n",
    "    point = None\n",
    "    for p in points:\n",
    "        dif = np.linalg.norm(p - centroid, 2)\n",
    "        if dif < min_dif:\n",
    "            point = p\n",
    "            min_dif = dif\n",
    "    return point\n",
    "    \n",
    "\n",
    "def approach1(N):    \n",
    "    cluster = kmeans(mat, 25)\n",
    "    centroids = cluster[0]\n",
    "    optimal_set = []\n",
    "\n",
    "    for c in centroids:\n",
    "        point = findPointNearCentroid(c, mat)\n",
    "        optimal_set.append(point)\n",
    "        \n",
    "    return obj_func(optimal_set)\n",
    "    \n"
   ]
  },
  {
   "cell_type": "code",
   "execution_count": 58,
   "id": "reliable-pixel",
   "metadata": {},
   "outputs": [
    {
     "data": {
      "text/plain": [
       "[<matplotlib.lines.Line2D at 0x7f9675152f10>]"
      ]
     },
     "execution_count": 58,
     "metadata": {},
     "output_type": "execute_result"
    },
    {
     "data": {
      "image/png": "[encoded data removed]",
      "text/plain": [
       "<Figure size 432x288 with 1 Axes>"
      ]
     },
     "metadata": {
      "needs_background": "light"
     },
     "output_type": "display_data"
    }
   ],
   "source": [
    "#test approach 1\n",
    "\n",
    "x = []\n",
    "y = []\n",
    "\n",
    "for N in range(20,200,10):\n",
    "    res = approach1(N)\n",
    "    x.append(N)\n",
    "    y.append(res)\n",
    "    \n",
    "    \n",
    "plt.plot(x,y, 'ro')"
   ]
  },
  {
   "cell_type": "code",
   "execution_count": 63,
   "id": "transparent-helping",
   "metadata": {},
   "outputs": [],
   "source": [
    "res = approach1(19*19)"
   ]
  },
  {
   "cell_type": "code",
   "execution_count": 64,
   "id": "aware-auction",
   "metadata": {},
   "outputs": [
    {
     "data": {
      "text/plain": [
       "717258.386978937"
      ]
     },
     "execution_count": 64,
     "metadata": {},
     "output_type": "execute_result"
    }
   ],
   "source": [
    "res\n"
   ]
  },
  {
   "cell_type": "code",
   "execution_count": 10,
   "id": "respective-vietnamese",
   "metadata": {},
   "outputs": [],
   "source": [
    "import matplotlib.pyplot as plt\n",
    "import numpy as np\n",
    "import scipy.spatial as spatial\n",
    "\n",
    "N, K, ND = 100000, 200, 19*19\n",
    "MAX_LOOPS = 20\n",
    "\n",
    "data = mat\n",
    "\n",
    "def distances(ndarray_0, ndarray_1):\n",
    "    if (ndarray_0.ndim, ndarray_1.ndim) not in ((1, 2), (2, 1)):\n",
    "        raise ValueError(\"bad ndarray dimensions combination\")\n",
    "    return np.linalg.norm(ndarray_0 - ndarray_1, axis=1)\n",
    "\n",
    "# start with the K points closest to the mean\n",
    "# (the copy() is only to avoid a view into an otherwise unused array)\n",
    "indices = np.argsort(distances(data, data.mean(0)))[:K].copy()\n",
    "# distsums is, for all N points, the sum of the distances from the K points\n",
    "distsums = spatial.distance.cdist(data, data[indices]).sum(1)\n",
    "# but the K points themselves should not be considered\n",
    "# (the trick is that -np.inf ± a finite quantity always yields -np.inf)\n",
    "distsums[indices] = -np.inf\n",
    "prev_sum = 0.0\n",
    "for loop in range(MAX_LOOPS):\n",
    "    for i in range(K):\n",
    "        # remove this point from the K points\n",
    "        old_index = indices[i]\n",
    "        # calculate its sum of distances from the K points\n",
    "        distsums[old_index] = distances(data[indices], data[old_index]).sum()\n",
    "        # update the sums of distances of all points from the K-1 points\n",
    "        distsums -= distances(data, data[old_index])\n",
    "        # choose the point with the greatest sum of distances from the K-1 points\n",
    "        new_index = np.argmax(distsums)\n",
    "        # add it to the K points replacing the old_index\n",
    "        indices[i] = new_index\n",
    "        # don't consider it any more in distsums\n",
    "        distsums[new_index] = -np.inf\n",
    "        # update the sums of distances of all points from the K points\n",
    "        distsums += distances(data, data[new_index])\n",
    "    # sum all mutual distances of the K points\n",
    "    curr_sum = spatial.distance.pdist(data[indices]).sum()\n",
    "    # break if the sum hasn't changed\n",
    "    if curr_sum == prev_sum:\n",
    "        break\n",
    "    prev_sum = curr_sum"
   ]
  },
  {
   "cell_type": "code",
   "execution_count": 11,
   "id": "valid-directory",
   "metadata": {},
   "outputs": [
    {
     "data": {
      "text/plain": [
       "67132687.92607872"
      ]
     },
     "execution_count": 11,
     "metadata": {},
     "output_type": "execute_result"
    }
   ],
   "source": [
    "prev_sum\n"
   ]
  },
  {
   "cell_type": "code",
   "execution_count": 68,
   "id": "greater-census",
   "metadata": {},
   "outputs": [
    {
     "data": {
      "text/plain": [
       "36800540.96066679"
      ]
     },
     "execution_count": 68,
     "metadata": {},
     "output_type": "execute_result"
    }
   ],
   "source": [
    "prev_sum - res"
   ]
  },
  {
   "cell_type": "code",
   "execution_count": 12,
   "id": "cardiac-drink",
   "metadata": {},
   "outputs": [
    {
     "data": {
      "text/plain": [
       "(2429,)"
      ]
     },
     "execution_count": 12,
     "metadata": {},
     "output_type": "execute_result"
    }
   ],
   "source": [
    "data.mean(0).shape"
   ]
  },
  {
   "cell_type": "code",
   "execution_count": 13,
   "id": "naked-happening",
   "metadata": {},
   "outputs": [],
   "source": [
    "# start with the K points closest to the mean\n",
    "# (the copy() is only to avoid a view into an otherwise unused array)\n",
    "indices = np.argsort(distances(data, data.mean(0)))[:K].copy()\n",
    "# distsums is, for all N points, the sum of the distances from the K points\n",
    "distsums = spatial.distance.cdist(data, data[indices]).sum(1)"
   ]
  },
  {
   "cell_type": "code",
   "execution_count": 15,
   "id": "acting-scotland",
   "metadata": {},
   "outputs": [
    {
     "data": {
      "text/plain": [
       "(200,)"
      ]
     },
     "execution_count": 15,
     "metadata": {},
     "output_type": "execute_result"
    }
   ],
   "source": [
    "indices.shape"
   ]
  },
  {
   "cell_type": "code",
   "execution_count": null,
   "id": "accompanied-orientation",
   "metadata": {},
   "outputs": [],
   "source": []
  }
 ],
 "metadata": {
  "kernelspec": {
   "display_name": "base",
   "language": "python",
   "name": "base"
  },
  "language_info": {
   "codemirror_mode": {
    "name": "ipython",
    "version": 3
   },
   "file_extension": ".py",
   "mimetype": "text/x-python",
   "name": "python",
   "nbconvert_exporter": "python",
   "pygments_lexer": "ipython3",
   "version": "3.7.4"
  }
 },
 "nbformat": 4,
 "nbformat_minor": 5
}
